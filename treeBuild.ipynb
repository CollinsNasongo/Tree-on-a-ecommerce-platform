{
 "cells": [
  {
   "cell_type": "code",
   "execution_count": 4,
   "id": "3746b78d",
   "metadata": {},
   "outputs": [],
   "source": [
    "import requests\n",
    "from bs4 import BeautifulSoup"
   ]
  },
  {
   "cell_type": "code",
   "execution_count": 29,
   "id": "45f61994",
   "metadata": {},
   "outputs": [],
   "source": [
    "class WebPage:\n",
    "    def __init__(self, url):\n",
    "        self.url = url\n",
    "    def view_page(self):\n",
    "        source = requests.get(self.url)\n",
    "        soup = BeautifulSoup(source.content, 'lxml')\n",
    "        soup = soup.prettify()\n",
    "        return print(soup)\n",
    "    \n",
    "    "
   ]
  },
  {
   "cell_type": "code",
   "execution_count": 30,
   "id": "acfa088b",
   "metadata": {},
   "outputs": [],
   "source": [
    "jumia = WebPage(\"https://www.jumia.co.ke/\")"
   ]
  },
  {
   "cell_type": "code",
   "execution_count": null,
   "id": "5eac5e79",
   "metadata": {},
   "outputs": [],
   "source": []
  },
  {
   "cell_type": "code",
   "execution_count": null,
   "id": "4994f666",
   "metadata": {},
   "outputs": [],
   "source": []
  }
 ],
 "metadata": {
  "kernelspec": {
   "display_name": "Python 3 (ipykernel)",
   "language": "python",
   "name": "python3"
  },
  "language_info": {
   "codemirror_mode": {
    "name": "ipython",
    "version": 3
   },
   "file_extension": ".py",
   "mimetype": "text/x-python",
   "name": "python",
   "nbconvert_exporter": "python",
   "pygments_lexer": "ipython3",
   "version": "3.9.6"
  }
 },
 "nbformat": 4,
 "nbformat_minor": 5
}
